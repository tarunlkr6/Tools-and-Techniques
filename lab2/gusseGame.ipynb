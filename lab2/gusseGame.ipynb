{
  "nbformat": 4,
  "nbformat_minor": 0,
  "metadata": {
    "colab": {
      "provenance": []
    },
    "kernelspec": {
      "name": "python3",
      "display_name": "Python 3"
    },
    "language_info": {
      "name": "python"
    }
  },
  "cells": [
    {
      "cell_type": "code",
      "source": [
        "import random\n",
        "lower, upper = int(input(\"Enter lower limit: \")), int(input(\"Enter upper limit: \"))\n",
        "num = random.randint(lower, upper)\n",
        "\n",
        "while 1:\n",
        "  guess = int(input(\"Enter your guess: \"))\n",
        "  if guess > lower and guess < num:\n",
        "    print(\"Guess is too low\")\n",
        "    continue\n",
        "  elif guess < upper and guess > num:\n",
        "    print(\"Guess is too high\")\n",
        "    continue\n",
        "  elif guess == num :\n",
        "    print(\"Your guess is correct\")\n",
        "    break"
      ],
      "metadata": {
        "colab": {
          "base_uri": "https://localhost:8080/"
        },
        "id": "VipdsngsfkNy",
        "outputId": "7454e73f-9109-45df-812c-df4c71b8a04e"
      },
      "execution_count": 5,
      "outputs": [
        {
          "output_type": "stream",
          "name": "stdout",
          "text": [
            "Enter lower limit: 10\n",
            "Enter upper limit: 20\n",
            "Enter your guess: 15\n",
            "Guess is too low\n",
            "Enter your guess: 12\n",
            "Guess is too low\n",
            "Enter your guess: 18\n",
            "Your guess is correct\n"
          ]
        }
      ]
    },
    {
      "cell_type": "code",
      "source": [],
      "metadata": {
        "id": "ipvQpVpmDlmH"
      },
      "execution_count": null,
      "outputs": []
    }
  ]
}