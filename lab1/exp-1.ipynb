{
  "nbformat": 4,
  "nbformat_minor": 0,
  "metadata": {
    "colab": {
      "provenance": []
    },
    "kernelspec": {
      "name": "python3",
      "display_name": "Python 3"
    },
    "language_info": {
      "name": "python"
    }
  },
  "cells": [
    {
      "cell_type": "code",
      "execution_count": 12,
      "metadata": {
        "colab": {
          "base_uri": "https://localhost:8080/"
        },
        "id": "06GkboLoF03U",
        "outputId": "3ee9f7c5-4f2b-46b8-855c-79f13a306553"
      },
      "outputs": [
        {
          "output_type": "stream",
          "name": "stdout",
          "text": [
            "20\n",
            "45.86\n"
          ]
        }
      ],
      "source": [
        "# data types\n",
        "# numbers - interger, float\n",
        "age = 20 #integer\n",
        "marks = 45.86 #float\n",
        "print(age)\n",
        "print(marks)"
      ]
    },
    {
      "cell_type": "code",
      "source": [
        "#string\n",
        "name = \"Tarun\"\n",
        "print(name)\n",
        "print('Kumar')"
      ],
      "metadata": {
        "colab": {
          "base_uri": "https://localhost:8080/"
        },
        "id": "68BUShBuGcFX",
        "outputId": "4d0238dc-ef90-48ec-b519-cabf873958cc"
      },
      "execution_count": 13,
      "outputs": [
        {
          "output_type": "stream",
          "name": "stdout",
          "text": [
            "Tarun\n",
            "Kumar\n"
          ]
        }
      ]
    },
    {
      "cell_type": "code",
      "source": [
        "#boolean\n",
        "isValid = True\n",
        "print(isValid)"
      ],
      "metadata": {
        "colab": {
          "base_uri": "https://localhost:8080/"
        },
        "id": "jNMViQfYGp2O",
        "outputId": "76be5a08-59a9-470d-a802-4aaa0cdb8f73"
      },
      "execution_count": 14,
      "outputs": [
        {
          "output_type": "stream",
          "name": "stdout",
          "text": [
            "True\n"
          ]
        }
      ]
    },
    {
      "cell_type": "code",
      "source": [
        "# debugging tool\n",
        "print(\"Hello, Welcome to jupyter notebook\")\n"
      ],
      "metadata": {
        "colab": {
          "base_uri": "https://localhost:8080/"
        },
        "id": "sqHjBfNPG_EF",
        "outputId": "dad4bca1-faea-4d14-b670-f9bd7b0806f8"
      },
      "execution_count": 15,
      "outputs": [
        {
          "output_type": "stream",
          "name": "stdout",
          "text": [
            "Hello, Welcome to jupyter notebook\n"
          ]
        }
      ]
    },
    {
      "cell_type": "code",
      "source": [
        "#function\n",
        "def greet(name):\n",
        "  print(f'Hello, {name}!')"
      ],
      "metadata": {
        "id": "uE4ep9oPSdYQ"
      },
      "execution_count": 16,
      "outputs": []
    },
    {
      "cell_type": "code",
      "source": [
        "greet('Tarun')"
      ],
      "metadata": {
        "colab": {
          "base_uri": "https://localhost:8080/"
        },
        "id": "2bMkZ0ukSwEZ",
        "outputId": "acb0a88e-ad91-43bf-8eb5-762c0c077c2b"
      },
      "execution_count": 17,
      "outputs": [
        {
          "output_type": "stream",
          "name": "stdout",
          "text": [
            "Hello, Tarun!\n"
          ]
        }
      ]
    },
    {
      "cell_type": "code",
      "source": [
        "# variables declarations\n",
        "x = 5\n",
        "is_valid = True # boolean"
      ],
      "metadata": {
        "id": "DWI2HnTYS0-F"
      },
      "execution_count": 18,
      "outputs": []
    },
    {
      "cell_type": "code",
      "source": [
        "# data types\n",
        "age = 25 #int\n",
        "marks = 78.5 #float\n",
        "name = \"John\" #string (str)"
      ],
      "metadata": {
        "id": "GeHIgFhu5ork"
      },
      "execution_count": 19,
      "outputs": []
    },
    {
      "cell_type": "code",
      "source": [
        "# type method is used to check the data type of the variables\n",
        "type(age)"
      ],
      "metadata": {
        "colab": {
          "base_uri": "https://localhost:8080/"
        },
        "id": "3XUpccdM7DKT",
        "outputId": "6b99cd5f-e92b-4abc-d271-6faee3fc4156"
      },
      "execution_count": 20,
      "outputs": [
        {
          "output_type": "execute_result",
          "data": {
            "text/plain": [
              "int"
            ]
          },
          "metadata": {},
          "execution_count": 20
        }
      ]
    },
    {
      "cell_type": "code",
      "source": [
        "# python data structures\n",
        "# list data types\n",
        "fruitsList = [\"Apple\", \"Mango\", \"Grapes\"]\n",
        "fruitsList"
      ],
      "metadata": {
        "colab": {
          "base_uri": "https://localhost:8080/"
        },
        "id": "h2MfXlmo7VLO",
        "outputId": "e3625900-775b-4a66-e42d-ee80f3e0c947"
      },
      "execution_count": 21,
      "outputs": [
        {
          "output_type": "execute_result",
          "data": {
            "text/plain": [
              "['Apple', 'Mango', 'Grapes']"
            ]
          },
          "metadata": {},
          "execution_count": 21
        }
      ]
    },
    {
      "cell_type": "code",
      "source": [
        "# Accessing list elements\n",
        "fruitsList[0]"
      ],
      "metadata": {
        "colab": {
          "base_uri": "https://localhost:8080/",
          "height": 36
        },
        "id": "WXXuyfi1INju",
        "outputId": "aadc2f25-48d4-403d-e702-3b02aa830c24"
      },
      "execution_count": 22,
      "outputs": [
        {
          "output_type": "execute_result",
          "data": {
            "text/plain": [
              "'Apple'"
            ],
            "application/vnd.google.colaboratory.intrinsic+json": {
              "type": "string"
            }
          },
          "metadata": {},
          "execution_count": 22
        }
      ]
    },
    {
      "cell_type": "code",
      "source": [
        "# tuple data types\n",
        "# tuples are immutable\n",
        "dimensions = (20, 40, 5)\n",
        "dimensions"
      ],
      "metadata": {
        "id": "ydYis8qG8d_j",
        "colab": {
          "base_uri": "https://localhost:8080/"
        },
        "outputId": "202e4e6d-d077-4fd7-a9f8-3e11d9d23d01"
      },
      "execution_count": 23,
      "outputs": [
        {
          "output_type": "execute_result",
          "data": {
            "text/plain": [
              "(20, 40, 5)"
            ]
          },
          "metadata": {},
          "execution_count": 23
        }
      ]
    },
    {
      "cell_type": "code",
      "source": [
        "# dictonary data types\n",
        "person = {\"Name\": \"Tarun Kumar\", \"age\": 20, \"gender\": \"male\"}"
      ],
      "metadata": {
        "id": "-sy6PECmew1C"
      },
      "execution_count": 24,
      "outputs": []
    },
    {
      "cell_type": "code",
      "source": [
        "person[\"Name\"] # accessing elements using key"
      ],
      "metadata": {
        "colab": {
          "base_uri": "https://localhost:8080/",
          "height": 36
        },
        "id": "B5prxTP1fYFj",
        "outputId": "ef710ff3-8d6d-4fa6-d57a-3e5481e0625d"
      },
      "execution_count": 25,
      "outputs": [
        {
          "output_type": "execute_result",
          "data": {
            "text/plain": [
              "'Tarun Kumar'"
            ],
            "application/vnd.google.colaboratory.intrinsic+json": {
              "type": "string"
            }
          },
          "metadata": {},
          "execution_count": 25
        }
      ]
    },
    {
      "cell_type": "code",
      "source": [
        "person[\"age\"]"
      ],
      "metadata": {
        "colab": {
          "base_uri": "https://localhost:8080/"
        },
        "id": "M-g1tcIZfd9U",
        "outputId": "030b21d3-6624-4e91-ab48-e25d326352c3"
      },
      "execution_count": 26,
      "outputs": [
        {
          "output_type": "execute_result",
          "data": {
            "text/plain": [
              "20"
            ]
          },
          "metadata": {},
          "execution_count": 26
        }
      ]
    },
    {
      "cell_type": "code",
      "source": [
        "person[\"gender\"]"
      ],
      "metadata": {
        "colab": {
          "base_uri": "https://localhost:8080/",
          "height": 36
        },
        "id": "HbP3qYIlfg_S",
        "outputId": "b7635021-4158-4438-d7c5-2812933e9aa2"
      },
      "execution_count": 27,
      "outputs": [
        {
          "output_type": "execute_result",
          "data": {
            "text/plain": [
              "'male'"
            ],
            "application/vnd.google.colaboratory.intrinsic+json": {
              "type": "string"
            }
          },
          "metadata": {},
          "execution_count": 27
        }
      ]
    },
    {
      "cell_type": "code",
      "source": [
        "# strings\n",
        "string1 = 'Hii, This is Tarun Kumar'\n",
        "string2 = \"Hii, I am Tarun\""
      ],
      "metadata": {
        "id": "c0V--GpOfjta"
      },
      "execution_count": 28,
      "outputs": []
    },
    {
      "cell_type": "code",
      "source": [
        "string1"
      ],
      "metadata": {
        "colab": {
          "base_uri": "https://localhost:8080/",
          "height": 36
        },
        "id": "yUfaZSZHgXKH",
        "outputId": "cdbbe002-6497-46b9-c251-ac1efb5c8449"
      },
      "execution_count": 29,
      "outputs": [
        {
          "output_type": "execute_result",
          "data": {
            "text/plain": [
              "'Hii, This is Tarun Kumar'"
            ],
            "application/vnd.google.colaboratory.intrinsic+json": {
              "type": "string"
            }
          },
          "metadata": {},
          "execution_count": 29
        }
      ]
    },
    {
      "cell_type": "code",
      "source": [
        "string2"
      ],
      "metadata": {
        "colab": {
          "base_uri": "https://localhost:8080/",
          "height": 36
        },
        "id": "oUGBHJZzgmWL",
        "outputId": "530c688a-b389-476b-be62-52a53e11b2e7"
      },
      "execution_count": 30,
      "outputs": [
        {
          "output_type": "execute_result",
          "data": {
            "text/plain": [
              "'Hii, I am Tarun'"
            ],
            "application/vnd.google.colaboratory.intrinsic+json": {
              "type": "string"
            }
          },
          "metadata": {},
          "execution_count": 30
        }
      ]
    },
    {
      "cell_type": "code",
      "source": [
        "# multiline strings\n",
        "str1 = '''Hello\n",
        "world\n",
        "This is a python\n",
        "multiline string example'''\n",
        "str1"
      ],
      "metadata": {
        "colab": {
          "base_uri": "https://localhost:8080/",
          "height": 36
        },
        "id": "Snl5jyrcgssG",
        "outputId": "b3571a60-831b-45cc-f974-0946d85a130d"
      },
      "execution_count": 31,
      "outputs": [
        {
          "output_type": "execute_result",
          "data": {
            "text/plain": [
              "'Hello\\nworld\\nThis is a python\\nmultiline string example'"
            ],
            "application/vnd.google.colaboratory.intrinsic+json": {
              "type": "string"
            }
          },
          "metadata": {},
          "execution_count": 31
        }
      ]
    },
    {
      "cell_type": "code",
      "source": [
        "# raw string\n",
        "str2 = r'This is a raw string \\n program for raw string in python'\n",
        "str2"
      ],
      "metadata": {
        "id": "VHE_MHZshCjh",
        "colab": {
          "base_uri": "https://localhost:8080/",
          "height": 36
        },
        "outputId": "aeabac1e-99ce-42a2-84ea-79da03f83d5f"
      },
      "execution_count": 32,
      "outputs": [
        {
          "output_type": "execute_result",
          "data": {
            "text/plain": [
              "'This is a raw string \\\\n program for raw string in python'"
            ],
            "application/vnd.google.colaboratory.intrinsic+json": {
              "type": "string"
            }
          },
          "metadata": {},
          "execution_count": 32
        }
      ]
    },
    {
      "cell_type": "code",
      "source": [
        "# Byte strings\n",
        "byteString = b'The string written in this is converted into byte'\n",
        "byteString"
      ],
      "metadata": {
        "colab": {
          "base_uri": "https://localhost:8080/"
        },
        "id": "CW78ueo_hbqi",
        "outputId": "8cd38e7d-33b9-4950-a638-39ffd2b8cc11"
      },
      "execution_count": 33,
      "outputs": [
        {
          "output_type": "execute_result",
          "data": {
            "text/plain": [
              "b'The string written in this is converted into byte'"
            ]
          },
          "metadata": {},
          "execution_count": 33
        }
      ]
    },
    {
      "cell_type": "code",
      "source": [
        "# Formatted Strings\n",
        "name = 'Tarun'\n",
        "formattedString = f'Hello, {name}'\n",
        "formattedString"
      ],
      "metadata": {
        "colab": {
          "base_uri": "https://localhost:8080/",
          "height": 36
        },
        "id": "AHXLcuNBGA8e",
        "outputId": "b814e409-5f53-464b-b2b2-0ed7a989f229"
      },
      "execution_count": 34,
      "outputs": [
        {
          "output_type": "execute_result",
          "data": {
            "text/plain": [
              "'Hello, Tarun'"
            ],
            "application/vnd.google.colaboratory.intrinsic+json": {
              "type": "string"
            }
          },
          "metadata": {},
          "execution_count": 34
        }
      ]
    },
    {
      "cell_type": "code",
      "source": [
        "# byte objects\n",
        "# syntax --> bytes()\n",
        "byteObj = bytes([68, 69, 70, 71]) # Creates a bytes object with ASCII values of D E F G\n",
        "byteObj"
      ],
      "metadata": {
        "colab": {
          "base_uri": "https://localhost:8080/"
        },
        "id": "_95abABhHGKN",
        "outputId": "ee6e3cf4-b816-431d-c5dd-a8d0edc5e2e3"
      },
      "execution_count": 35,
      "outputs": [
        {
          "output_type": "execute_result",
          "data": {
            "text/plain": [
              "b'DEFG'"
            ]
          },
          "metadata": {},
          "execution_count": 35
        }
      ]
    },
    {
      "cell_type": "code",
      "source": [
        "# functions\n",
        "def add(x, y):\n",
        "    return(x + y)\n",
        "\n",
        "num1 = int(input(\"Enter the first number: \"))\n",
        "num2 = int(input(\"Enter the second number: \"))\n",
        "c = add(num1, num2)\n",
        "print(\"Sum is \", c)"
      ],
      "metadata": {
        "colab": {
          "base_uri": "https://localhost:8080/"
        },
        "id": "YboC_U9fHs4e",
        "outputId": "152e9f18-7ac0-4f92-b025-6d42dec31086"
      },
      "execution_count": 36,
      "outputs": [
        {
          "output_type": "stream",
          "name": "stdout",
          "text": [
            "Enter the first number: 78\n",
            "Enter the second number: 32\n",
            "Sum is  110\n"
          ]
        }
      ]
    },
    {
      "cell_type": "code",
      "source": [
        "l = list()\n",
        "for i in range(10):\n",
        "    l.append(i)\n",
        "print(l)"
      ],
      "metadata": {
        "colab": {
          "base_uri": "https://localhost:8080/"
        },
        "id": "DOSZp_qmLXRC",
        "outputId": "a6de31fd-96f3-4a14-e64f-b37b02b7c5d1"
      },
      "execution_count": 37,
      "outputs": [
        {
          "output_type": "stream",
          "name": "stdout",
          "text": [
            "[0, 1, 2, 3, 4, 5, 6, 7, 8, 9]\n"
          ]
        }
      ]
    },
    {
      "cell_type": "code",
      "source": [
        "# list comprehenson\n",
        "[l.append(i) for i in range(1, 15)]\n",
        "print(l)"
      ],
      "metadata": {
        "colab": {
          "base_uri": "https://localhost:8080/"
        },
        "id": "zYZ56-IVLfTn",
        "outputId": "cf0d3842-067c-4d09-c8f6-1d620552e5e5"
      },
      "execution_count": 38,
      "outputs": [
        {
          "output_type": "stream",
          "name": "stdout",
          "text": [
            "[0, 1, 2, 3, 4, 5, 6, 7, 8, 9, 1, 2, 3, 4, 5, 6, 7, 8, 9, 10, 11, 12, 13, 14]\n"
          ]
        }
      ]
    },
    {
      "cell_type": "code",
      "source": [
        "# generate random number\n",
        "import random\n",
        "randNum = random.randint(1, 100)\n",
        "print(randNum)"
      ],
      "metadata": {
        "colab": {
          "base_uri": "https://localhost:8080/"
        },
        "id": "4-TNxqlPLjvY",
        "outputId": "3e3a00f3-6532-4e34-9882-72d5395aee9a"
      },
      "execution_count": 39,
      "outputs": [
        {
          "output_type": "stream",
          "name": "stdout",
          "text": [
            "6\n"
          ]
        }
      ]
    },
    {
      "cell_type": "code",
      "source": [],
      "metadata": {
        "id": "TRqpYsh5Lpgf"
      },
      "execution_count": null,
      "outputs": []
    }
  ]
}