{
  "nbformat": 4,
  "nbformat_minor": 0,
  "metadata": {
    "colab": {
      "provenance": []
    },
    "kernelspec": {
      "name": "python3",
      "display_name": "Python 3"
    },
    "language_info": {
      "name": "python"
    }
  },
  "cells": [
    {
      "cell_type": "markdown",
      "source": [
        "**program to filter the list element in even then odd manner using the same**"
      ],
      "metadata": {
        "id": "d-6CHH6vrjFh"
      }
    },
    {
      "cell_type": "code",
      "execution_count": 1,
      "metadata": {
        "id": "qwkpp4exneJg"
      },
      "outputs": [],
      "source": [
        "import random\n",
        "l1 = [random.randint(1, 10) for i in range(1, 10)]"
      ]
    },
    {
      "cell_type": "code",
      "source": [
        "l1"
      ],
      "metadata": {
        "colab": {
          "base_uri": "https://localhost:8080/"
        },
        "id": "2aofpMsopBhI",
        "outputId": "dd9ece1c-c4af-4553-eab4-49ab4c2b0e28"
      },
      "execution_count": 2,
      "outputs": [
        {
          "output_type": "execute_result",
          "data": {
            "text/plain": [
              "[10, 6, 5, 2, 5, 4, 8, 7, 5]"
            ]
          },
          "metadata": {},
          "execution_count": 2
        }
      ]
    },
    {
      "cell_type": "code",
      "source": [
        "i, j = 0, len(l1) - 1"
      ],
      "metadata": {
        "id": "rY5AauTwpS4d"
      },
      "execution_count": 3,
      "outputs": []
    },
    {
      "cell_type": "code",
      "source": [
        "while i < j:\n",
        "  if l1[i] % 2 == 0:\n",
        "    i += 1\n",
        "  l1[i], l1[j] = l1[j], l1[i]\n",
        "  if l1[j] % 2 != 0:\n",
        "    j = j - 1"
      ],
      "metadata": {
        "id": "0aG5rBRmpdTc"
      },
      "execution_count": 4,
      "outputs": []
    },
    {
      "cell_type": "code",
      "source": [
        "l1"
      ],
      "metadata": {
        "colab": {
          "base_uri": "https://localhost:8080/"
        },
        "id": "hddEqT32p9ax",
        "outputId": "41887efb-3c7b-4c6c-fada-7e59a0822e45"
      },
      "execution_count": 5,
      "outputs": [
        {
          "output_type": "execute_result",
          "data": {
            "text/plain": [
              "[10, 6, 8, 4, 2, 5, 7, 5, 5]"
            ]
          },
          "metadata": {},
          "execution_count": 5
        }
      ]
    }
  ]
}